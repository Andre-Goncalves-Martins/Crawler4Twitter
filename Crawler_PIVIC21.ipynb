{
 "cells": [
  {
   "cell_type": "markdown",
   "metadata": {
    "id": "4oRo9Yt1olVd"
   },
   "source": [
    "## Declaração das bibliotecas e inicialização das variáveis\n"
   ]
  },
  {
   "cell_type": "code",
   "execution_count": null,
   "metadata": {
    "id": "OzR7KqLvnlWo"
   },
   "outputs": [],
   "source": [
    "import os\n",
    "import tweepy as tw\n",
    "import pandas as pd\n",
    "\n",
    "consumer_key = '9r5QtgJD7xTkgnKktno3uaDBo'\n",
    "consumer_secret = 'nvIED17L2VVPpAf6siSTCEScTSKjpOiBcU0OluEU4B7PgU5hvr'\n",
    "access_token = '1421112401571860488-WK5up52qTQdQ1XbxNX2lBECGQenV4p'\n",
    "access_token_secret = 'ERv31oLnHWcKaOLDNsO3EwkQX1EHMaeQpELfnZwiD7HOH'"
   ]
  },
  {
   "cell_type": "code",
   "execution_count": null,
   "metadata": {
    "id": "5HtAp_ihUVG_"
   },
   "outputs": [],
   "source": [
    "auth = tw.OAuthHandler(consumer_key, consumer_secret)\n",
    "auth.set_access_token(access_token, access_token_secret)\n",
    "api = tw.API(auth, wait_on_rate_limit=True)"
   ]
  },
  {
   "cell_type": "markdown",
   "metadata": {
    "id": "5dNNzCIEGqIS"
   },
   "source": [
    "## Definindo Lista de busca, data e obtendo os tweets"
   ]
  },
  {
   "cell_type": "code",
   "execution_count": null,
   "metadata": {
    "id": "dk_y71DBxAyY"
   },
   "outputs": [],
   "source": [
    "lista_busca = ['ciro', 'lula', 'bolsonaro', 'eduardo leite', 'joao doria','eleições2022', 'marina silva', 'mandetta', 'rodrigo pacheco', 'simone tebet']\n",
    "hoje = pd.DataFrame()\n",
    "data_inicio = '2021-09-21'\n",
    "data_fim = '2021-09-22'"
   ]
  },
  {
   "cell_type": "markdown",
   "metadata": {
    "id": "Kb8xrUJjcUND"
   },
   "source": [
    "## Coletando infos e formando o df"
   ]
  },
  {
   "cell_type": "code",
   "execution_count": null,
   "metadata": {
    "colab": {
     "base_uri": "https://localhost:8080/"
    },
    "id": "-fmvHiMVcM-b",
    "outputId": "2d27f6ab-494b-43c2-b2bd-3628bf90da47"
   },
   "outputs": [],
   "source": [
    "for i in lista_busca:\n",
    "  string_busca = i\n",
    "  print(f'Entrou {i}')\n",
    "  nova_busca = string_busca + \" -filter:retweets\" # Removendo RT's\n",
    "  tweets = tw.Cursor(api.search, q=nova_busca, lang='pt', since= data_inicio, until= data_fim, tweet_mode=\"extended\").items(1000)# mudar esse número\n",
    "  all_data = [[tweet.user.id, tweet.user.screen_name, tweet.created_at, tweet.user.location, tweet.full_text] for tweet in tweets]\n",
    "  tweet_text = pd.DataFrame(data= all_data, columns=['ID','Usuário', 'Date', \"Localização\",\"Tweet_text\"])\n",
    "  hoje = pd.concat([hoje,tweet_text], ignore_index=True)\n",
    "hoje"
   ]
  },
  {
   "cell_type": "markdown",
   "metadata": {
    "id": "zONWB9_oYqzq"
   },
   "source": [
    "## Removendo os Tweets duplicados"
   ]
  },
  {
   "cell_type": "code",
   "execution_count": null,
   "metadata": {
    "colab": {
     "base_uri": "https://localhost:8080/",
     "height": 589
    },
    "id": "-4QbXJhcY2H_",
    "outputId": "81a6ff33-ceb2-4490-8459-a97c18b873c0"
   },
   "outputs": [],
   "source": [
    "hoje.drop_duplicates(inplace=True)\n",
    "hoje"
   ]
  },
  {
   "cell_type": "markdown",
   "metadata": {
    "id": "v9rymZV4Z1_e"
   },
   "source": [
    "## Pegando base do dia anterior\n"
   ]
  },
  {
   "cell_type": "code",
   "execution_count": null,
   "metadata": {
    "colab": {
     "base_uri": "https://localhost:8080/",
     "height": 589
    },
    "id": "g860_ePgaEKa",
    "outputId": "282a23f1-7e2d-4768-a321-2fca55bc2863"
   },
   "outputs": [],
   "source": [
    "ontem = pd.read_csv('base_de_rotulacao[andre].csv', lineterminator='\\n')\n",
    "ontem"
   ]
  },
  {
   "cell_type": "markdown",
   "metadata": {
    "id": "SIOEMXaCL4Dx"
   },
   "source": [
    "## Juntando as bases\n",
    "\n"
   ]
  },
  {
   "cell_type": "code",
   "execution_count": null,
   "metadata": {
    "colab": {
     "base_uri": "https://localhost:8080/",
     "height": 589
    },
    "id": "iuabTX01L8b8",
    "outputId": "e9ebf088-19a2-43bc-c202-c69df482a530"
   },
   "outputs": [],
   "source": [
    "junto = pd.concat([ontem,hoje], ignore_index=True)\n",
    "junto"
   ]
  },
  {
   "cell_type": "markdown",
   "metadata": {
    "id": "zFkRQd2j0hIa"
   },
   "source": [
    "## Importando o DataFrame para arquivo csv"
   ]
  },
  {
   "cell_type": "code",
   "execution_count": null,
   "metadata": {
    "id": "dnpqiUEm0uno"
   },
   "outputs": [],
   "source": [
    "junto.to_csv('base_de_rotulacao[andre].csv', index=False) # Exportar sem o índices das linhas (index=False)"
   ]
  },
  {
   "cell_type": "markdown",
   "metadata": {
    "id": "HKWfW0ABEJ1A"
   },
   "source": [
    "### Testando a base atual"
   ]
  },
  {
   "cell_type": "code",
   "execution_count": null,
   "metadata": {
    "colab": {
     "base_uri": "https://localhost:8080/",
     "height": 589
    },
    "id": "j9lrCpr9LPS6",
    "outputId": "5cb50f13-5fe3-4951-9e21-475e7abdd9cd"
   },
   "outputs": [],
   "source": [
    "df = pd.read_csv('base_de_rotulacao[andre].csv', lineterminator='\\n')\n",
    "df"
   ]
  },
  {
   "cell_type": "code",
   "execution_count": null,
   "metadata": {
    "id": "XGv8YK4viac5"
   },
   "outputs": [],
   "source": []
  }
 ],
 "metadata": {
  "colab": {
   "collapsed_sections": [],
   "name": "Crawler_PIVIC21.ipynb",
   "provenance": []
  },
  "kernelspec": {
   "display_name": "Python 3",
   "language": "python",
   "name": "python3"
  },
  "language_info": {
   "codemirror_mode": {
    "name": "ipython",
    "version": 3
   },
   "file_extension": ".py",
   "mimetype": "text/x-python",
   "name": "python",
   "nbconvert_exporter": "python",
   "pygments_lexer": "ipython3",
   "version": "3.8.8"
  }
 },
 "nbformat": 4,
 "nbformat_minor": 1
}
